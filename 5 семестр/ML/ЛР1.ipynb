{
  "nbformat": 4,
  "nbformat_minor": 0,
  "metadata": {
    "colab": {
      "provenance": [],
      "include_colab_link": true
    },
    "kernelspec": {
      "name": "python3",
      "display_name": "Python 3"
    },
    "language_info": {
      "name": "python"
    }
  },
  "cells": [
    {
      "cell_type": "markdown",
      "metadata": {
        "id": "view-in-github",
        "colab_type": "text"
      },
      "source": [
        "<a href=\"https://colab.research.google.com/github/avseitsevad/Avseitseva_ZBPI212/blob/main/5%20%D1%81%D0%B5%D0%BC%D0%B5%D1%81%D1%82%D1%80/ML%20/%D0%9B%D0%A01.ipynb\" target=\"_parent\"><img src=\"https://colab.research.google.com/assets/colab-badge.svg\" alt=\"Open In Colab\"/></a>"
      ]
    },
    {
      "cell_type": "code",
      "execution_count": null,
      "metadata": {
        "id": "3jxDPTGTkCYn"
      },
      "outputs": [],
      "source": [
        "import numpy as np"
      ]
    },
    {
      "cell_type": "markdown",
      "source": [
        "1. С помощью массивов numpy создайте таблицу умножения"
      ],
      "metadata": {
        "id": "hOIR36m9l9gd"
      }
    },
    {
      "cell_type": "code",
      "source": [
        "x_multiply = np.arange(1, 10)\n",
        "y_multiply = x_multiply[:, np.newaxis]\n",
        "table = x_multiply * y_multiply\n",
        "print(table)"
      ],
      "metadata": {
        "colab": {
          "base_uri": "https://localhost:8080/"
        },
        "id": "VfKFD_XCmLvV",
        "outputId": "c395961d-2bd5-440e-ee38-ae794aec2904"
      },
      "execution_count": null,
      "outputs": [
        {
          "output_type": "stream",
          "name": "stdout",
          "text": [
            "[[ 1  2  3  4  5  6  7  8  9]\n",
            " [ 2  4  6  8 10 12 14 16 18]\n",
            " [ 3  6  9 12 15 18 21 24 27]\n",
            " [ 4  8 12 16 20 24 28 32 36]\n",
            " [ 5 10 15 20 25 30 35 40 45]\n",
            " [ 6 12 18 24 30 36 42 48 54]\n",
            " [ 7 14 21 28 35 42 49 56 63]\n",
            " [ 8 16 24 32 40 48 56 64 72]\n",
            " [ 9 18 27 36 45 54 63 72 81]]\n"
          ]
        }
      ]
    },
    {
      "cell_type": "markdown",
      "source": [
        "2. Создайте функцию, которая принимает как аргументы целое число N и первый элемент (вещественное число), и разность (вещественное число) и создает матрицу numpy по диагонали, которой располагаются первые N членов арифметической прогрессии.\n"
      ],
      "metadata": {
        "id": "7LTLhhPPm5kX"
      }
    },
    {
      "cell_type": "code",
      "source": [
        "def create_diagonal_matrix(n, first_elem, diff):\n",
        "    progression = first_elem + diff * np.arange(n)\n",
        "    return np.diag(progression)\n",
        "\n",
        "print(create_diagonal_matrix(5, 0.2, 0.5))"
      ],
      "metadata": {
        "colab": {
          "base_uri": "https://localhost:8080/"
        },
        "id": "AloD7_9qnBcS",
        "outputId": "bb6c52a9-ba0f-4892-b24b-4cb697ed4030"
      },
      "execution_count": null,
      "outputs": [
        {
          "output_type": "stream",
          "name": "stdout",
          "text": [
            "[[0.2 0.  0.  0.  0. ]\n",
            " [0.  0.7 0.  0.  0. ]\n",
            " [0.  0.  1.2 0.  0. ]\n",
            " [0.  0.  0.  1.7 0. ]\n",
            " [0.  0.  0.  0.  2.2]]\n"
          ]
        }
      ]
    },
    {
      "cell_type": "markdown",
      "source": [
        "3. Сгенерируйте средствами numpy матрицу А 5 на 5, содержащую последовательные числа от 1 до 25. Используя срезы извлеките в плоский массив все нечетные элементы этой матрицы.\n"
      ],
      "metadata": {
        "id": "beMVcxHxngeg"
      }
    },
    {
      "cell_type": "code",
      "source": [
        "a = np.arange(1, 26).reshape(5, 5)\n",
        "print(*a[0::2, 1::2].flatten())"
      ],
      "metadata": {
        "colab": {
          "base_uri": "https://localhost:8080/"
        },
        "id": "8jSr2sr1njkL",
        "outputId": "9a605f76-1127-4fdb-e78a-df5c659cde74"
      },
      "execution_count": null,
      "outputs": [
        {
          "output_type": "stream",
          "name": "stdout",
          "text": [
            "2 4 12 14 22 24\n"
          ]
        }
      ]
    },
    {
      "cell_type": "markdown",
      "source": [
        "4. Создайте двумерный массив, содержащий единицы на границе и нули внутри."
      ],
      "metadata": {
        "id": "lD_OWqTRoQFa"
      }
    },
    {
      "cell_type": "code",
      "source": [
        "n = 5\n",
        "a = np.ones((n, n), dtype=int)\n",
        "a[1:-1, 1:-1] = 0\n",
        "print(a)"
      ],
      "metadata": {
        "colab": {
          "base_uri": "https://localhost:8080/"
        },
        "id": "hrVU04J5ob50",
        "outputId": "4053af33-bb89-4983-fac1-f72af34ab292"
      },
      "execution_count": null,
      "outputs": [
        {
          "output_type": "stream",
          "name": "stdout",
          "text": [
            "[[1 1 1 1 1]\n",
            " [1 0 0 0 1]\n",
            " [1 0 0 0 1]\n",
            " [1 0 0 0 1]\n",
            " [1 1 1 1 1]]\n"
          ]
        }
      ]
    },
    {
      "cell_type": "markdown",
      "source": [
        "5. Создайте две матрицы размером (5,5). Одна матрица содержит 5 в шахматном порядке как в задаче домашнего задания, другая имеет треугольную форму содержащую 5 на основной диагонали и в позициях выше ее, а ниже все 0. Посчитайте их детерминант и найдите обратные матрицы.\n"
      ],
      "metadata": {
        "id": "V9qFw4Q_o_8a"
      }
    },
    {
      "cell_type": "code",
      "source": [
        "a = np.ones((5,5), dtype=int)\n",
        "a[1::2, ::2] = 0\n",
        "a[::2, 1::2]= 0\n",
        "print(a)\n",
        "\n",
        "b = np.zeros((5,5), dtype=int)\n",
        "b[np.triu_indices(5)] = 5\n",
        "print(b)\n",
        "\n",
        "det_a = np.linalg.det(a)\n",
        "det_b = np.linalg.det(b)\n",
        "print(\"det a = {}, det b = {}\".format(det_a, det_b))\n",
        "\n",
        "if det_a:\n",
        "  inv_a = np.linalg.inv(a)\n",
        "  print(\"inv a = {}\".format(inv_a))\n",
        "if det_b:\n",
        "    inv_b = np.linalg.inv(b)\n",
        "    print(\"inv b = \\n {}\".format(inv_b))"
      ],
      "metadata": {
        "colab": {
          "base_uri": "https://localhost:8080/"
        },
        "id": "n9gRXXkNpB43",
        "outputId": "1f3c7c51-534c-43b4-a208-af216b63f1f8"
      },
      "execution_count": null,
      "outputs": [
        {
          "output_type": "stream",
          "name": "stdout",
          "text": [
            "[[1 0 1 0 1]\n",
            " [0 1 0 1 0]\n",
            " [1 0 1 0 1]\n",
            " [0 1 0 1 0]\n",
            " [1 0 1 0 1]]\n",
            "[[5 5 5 5 5]\n",
            " [0 5 5 5 5]\n",
            " [0 0 5 5 5]\n",
            " [0 0 0 5 5]\n",
            " [0 0 0 0 5]]\n",
            "det a = 0.0, det b = 3124.999999999999\n",
            "inv b = \n",
            " [[ 0.2 -0.2  0.   0.   0. ]\n",
            " [ 0.   0.2 -0.2  0.   0. ]\n",
            " [ 0.   0.   0.2 -0.2  0. ]\n",
            " [ 0.   0.   0.   0.2 -0.2]\n",
            " [ 0.   0.   0.   0.   0.2]]\n"
          ]
        }
      ]
    },
    {
      "cell_type": "markdown",
      "source": [
        "6. С помощью pandas загрузите датасет для предсказания цены квартиры, прилагающийся к этой работе.\n"
      ],
      "metadata": {
        "id": "gSBa0b7trYFd"
      }
    },
    {
      "cell_type": "code",
      "source": [
        "import pandas as pd\n",
        "df = pd.read_csv('data.csv')"
      ],
      "metadata": {
        "id": "NLC2Bzeorzwl"
      },
      "execution_count": null,
      "outputs": []
    },
    {
      "cell_type": "markdown",
      "source": [
        "7. Выведите на экран несколько первых и несколько последний строк файла.\n"
      ],
      "metadata": {
        "id": "f7sPaUc2r9mS"
      }
    },
    {
      "cell_type": "code",
      "source": [
        "print(df.head())\n",
        "print(df.tail())"
      ],
      "metadata": {
        "colab": {
          "base_uri": "https://localhost:8080/"
        },
        "id": "WJ71MJkcr_DH",
        "outputId": "95c0b829-6b2a-4c45-b644-5b386f14afb1"
      },
      "execution_count": null,
      "outputs": [
        {
          "output_type": "stream",
          "name": "stdout",
          "text": [
            "      Id  DistrictId  Rooms      Square  LifeSquare  KitchenSquare  Floor  \\\n",
            "0  11809          27    3.0  115.027311         NaN           10.0      4   \n",
            "1   3013          22    1.0   39.832524   23.169223            8.0      7   \n",
            "2   8215           1    3.0   78.342215   47.671972           10.0      2   \n",
            "3   2352           1    1.0   40.409907         NaN            1.0     10   \n",
            "4  13866          94    2.0   64.285067   38.562517            9.0     16   \n",
            "\n",
            "   HouseFloor  HouseYear  Ecology_1 Ecology_2 Ecology_3  Social_1  Social_2  \\\n",
            "0        10.0       2014   0.075424         B         B        11      3097   \n",
            "1         8.0       1966   0.118537         B         B        30      6207   \n",
            "2        17.0       1988   0.025609         B         B        33      5261   \n",
            "3        22.0       1977   0.007122         B         B         1       264   \n",
            "4        16.0       1972   0.282798         B         B        33      8667   \n",
            "\n",
            "   Social_3  Healthcare_1  Helthcare_2  Shops_1 Shops_2          Price  \n",
            "0         0           NaN            0        0       B  305018.871089  \n",
            "1         1        1183.0            1        0       B  177734.553407  \n",
            "2         0         240.0            3        1       B  282078.720850  \n",
            "3         0           NaN            0        1       B  168106.007630  \n",
            "4         2           NaN            0        6       B  343995.102962  \n",
            "         Id  DistrictId  Rooms     Square  LifeSquare  KitchenSquare  Floor  \\\n",
            "9995   1260          61    2.0  49.090728   33.272626            6.0      3   \n",
            "9996  16265          27    2.0  64.307684   37.038420            9.0     13   \n",
            "9997   2795         178    1.0  29.648057   16.555363            5.0      3   \n",
            "9998  14561          21    1.0  32.330292   22.326870            5.0      3   \n",
            "9999   7202          94    1.0  35.815476   22.301367            6.0      9   \n",
            "\n",
            "      HouseFloor  HouseYear  Ecology_1 Ecology_2 Ecology_3  Social_1  \\\n",
            "9995        12.0       1981   0.300323         B         B        52   \n",
            "9996         0.0       1977   0.072158         B         B         2   \n",
            "9997         5.0       1958   0.460556         B         B        20   \n",
            "9998         9.0       1969   0.194489         B         B        47   \n",
            "9999         9.0       1975   0.127376         B         B        43   \n",
            "\n",
            "      Social_2  Social_3  Healthcare_1  Helthcare_2  Shops_1 Shops_2  \\\n",
            "9995     10311         6           NaN            1        9       B   \n",
            "9996       629         1           NaN            0        0       A   \n",
            "9997      4386        14           NaN            1        5       B   \n",
            "9998      8004         3         125.0            3        5       B   \n",
            "9999      8429         3           NaN            3        9       B   \n",
            "\n",
            "              Price  \n",
            "9995  119367.455796  \n",
            "9996  199715.148807  \n",
            "9997  165953.912580  \n",
            "9998  171842.411855  \n",
            "9999  177685.627486  \n"
          ]
        }
      ]
    },
    {
      "cell_type": "markdown",
      "source": [
        "8. Выведите с помощью методов pandas основные количественные параметры датасета: количество строк и столбцов, тип данных каждого поля, количество значений в каждом столбце, шкала измерения каждого численного поля.\n"
      ],
      "metadata": {
        "id": "EmsvYcY7sS92"
      }
    },
    {
      "cell_type": "code",
      "source": [
        "print(f\"Строк: {df.shape[0]}, Столбцов: {df.shape[1]}\")\n",
        "print(\"\\nТип данных каждого поля:\")\n",
        "print(df.dtypes)\n",
        "print(\"\\nКоличество значений в каждом столбце:\")\n",
        "print(df.count())\n",
        "print(\"\\nШкала измерения каждого числового поля:\")\n",
        "numeric_cols = df.select_dtypes(include=['number']).columns\n",
        "for col in numeric_cols:\n",
        "    print(f\"{col}: {df[col].min()} - {df[col].max()}\")"
      ],
      "metadata": {
        "colab": {
          "base_uri": "https://localhost:8080/"
        },
        "id": "iDi92trVsU_g",
        "outputId": "9073ee43-7950-49ff-c8e3-d5c77721b153"
      },
      "execution_count": null,
      "outputs": [
        {
          "output_type": "stream",
          "name": "stdout",
          "text": [
            "Строк: 10000, Столбцов: 20\n",
            "\n",
            "Тип данных каждого поля:\n",
            "Id                 int64\n",
            "DistrictId         int64\n",
            "Rooms            float64\n",
            "Square           float64\n",
            "LifeSquare       float64\n",
            "KitchenSquare    float64\n",
            "Floor              int64\n",
            "HouseFloor       float64\n",
            "HouseYear          int64\n",
            "Ecology_1        float64\n",
            "Ecology_2         object\n",
            "Ecology_3         object\n",
            "Social_1           int64\n",
            "Social_2           int64\n",
            "Social_3           int64\n",
            "Healthcare_1     float64\n",
            "Helthcare_2        int64\n",
            "Shops_1            int64\n",
            "Shops_2           object\n",
            "Price            float64\n",
            "dtype: object\n",
            "\n",
            "Количество значений в каждом столбце:\n",
            "Id               10000\n",
            "DistrictId       10000\n",
            "Rooms            10000\n",
            "Square           10000\n",
            "LifeSquare        7887\n",
            "KitchenSquare    10000\n",
            "Floor            10000\n",
            "HouseFloor       10000\n",
            "HouseYear        10000\n",
            "Ecology_1        10000\n",
            "Ecology_2        10000\n",
            "Ecology_3        10000\n",
            "Social_1         10000\n",
            "Social_2         10000\n",
            "Social_3         10000\n",
            "Healthcare_1      5202\n",
            "Helthcare_2      10000\n",
            "Shops_1          10000\n",
            "Shops_2          10000\n",
            "Price            10000\n",
            "dtype: int64\n",
            "\n",
            "Шкала измерения каждого числового поля:\n",
            "Id: 0 - 16798\n",
            "DistrictId: 0 - 209\n",
            "Rooms: 0.0 - 19.0\n",
            "Square: 1.1368587776514651 - 641.0651927456407\n",
            "LifeSquare: 0.3706194194766937 - 7480.592128925201\n",
            "KitchenSquare: 0.0 - 2014.0\n",
            "Floor: 1 - 42\n",
            "HouseFloor: 0.0 - 117.0\n",
            "HouseYear: 1910 - 20052011\n",
            "Ecology_1: 0.0 - 0.521867054\n",
            "Social_1: 0 - 74\n",
            "Social_2: 168 - 19083\n",
            "Social_3: 0 - 141\n",
            "Healthcare_1: 0.0 - 4849.0\n",
            "Helthcare_2: 0 - 6\n",
            "Shops_1: 0 - 23\n",
            "Price: 59174.77802758122 - 633233.4665699474\n"
          ]
        }
      ]
    },
    {
      "cell_type": "markdown",
      "source": [
        "9. Удалите из таблицы столбцы, содержащие идентификаторы, переименуйте все оставшиеся названия колонок на русском языке.\n"
      ],
      "metadata": {
        "id": "PhTaHYaXtgbh"
      }
    },
    {
      "cell_type": "code",
      "source": [],
      "metadata": {
        "id": "BVHC9BpetjLI"
      },
      "execution_count": null,
      "outputs": []
    },
    {
      "cell_type": "markdown",
      "source": [
        "10. Выведите отдельно столбец, содержащий цену, по номеру и названию. Выведите первую, десятую и предпоследнюю строку таблицы по номеру и по индексу."
      ],
      "metadata": {
        "id": "_ljG29tIsgs4"
      }
    },
    {
      "cell_type": "code",
      "source": [],
      "metadata": {
        "id": "rkP5ZsOetB5n"
      },
      "execution_count": null,
      "outputs": []
    },
    {
      "cell_type": "markdown",
      "source": [
        "11. Выделите в отдельную таблицу последние десять строк. Уберите в ней столбец с ценой. Склейте ее с первоначальной таблицей при помощи append. Заполните отсутствующие значения цены средним по таблице."
      ],
      "metadata": {
        "id": "2dtmKDWotCKy"
      }
    },
    {
      "cell_type": "markdown",
      "source": [],
      "metadata": {
        "id": "30Oxkg1OtNxA"
      }
    },
    {
      "cell_type": "code",
      "source": [],
      "metadata": {
        "id": "V3ejQ_wgtH_C"
      },
      "execution_count": null,
      "outputs": []
    },
    {
      "cell_type": "markdown",
      "source": [
        "12. Выделите пять последних колонок в отдельную таблицу. Удалите в ней строки, в которых цена ниже среднего. Присоедините эту таблицу к изначальной (выберите самый подходящий тип соединения)."
      ],
      "metadata": {
        "id": "BnQyvInPtIYK"
      }
    },
    {
      "cell_type": "code",
      "source": [],
      "metadata": {
        "id": "9XlJN1J2tMwB"
      },
      "execution_count": null,
      "outputs": []
    }
  ]
}
